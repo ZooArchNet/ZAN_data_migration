{
 "cells": [
  {
   "cell_type": "code",
   "execution_count": 99,
   "metadata": {},
   "outputs": [],
   "source": [
    "import pandas as pd\n",
    "import numpy as np"
   ]
  },
  {
   "cell_type": "markdown",
   "metadata": {},
   "source": [
    "Silencing warnings that are unnecessary"
   ]
  },
  {
   "cell_type": "code",
   "execution_count": 100,
   "metadata": {},
   "outputs": [],
   "source": [
    "try:\n",
    "    import warnings\n",
    "    warnings.filterwarnings('ignore')\n",
    "except:\n",
    "    pass"
   ]
  },
  {
   "cell_type": "markdown",
   "metadata": {},
   "source": [
    "Load Files"
   ]
  },
  {
   "cell_type": "code",
   "execution_count": 101,
   "metadata": {},
   "outputs": [],
   "source": [
    "data = pd.read_csv(\"./../original_data/castillo_subset.csv\")\n",
    "names = pd.read_csv(\"./../mapping_files/scientific_names.csv\", index_col = False)\n",
    "elements = pd.read_csv(\"./../mapping_files/element_names.csv\", index_col = False)"
   ]
  },
  {
   "cell_type": "markdown",
   "metadata": {},
   "source": [
    "Turn mapping files into python dictionaries"
   ]
  },
  {
   "cell_type": "code",
   "execution_count": 102,
   "metadata": {},
   "outputs": [],
   "source": [
    "name_dict = names.set_index('old_names').to_dict()['cleaned_names']\n",
    "element_dict = elements.set_index('old_elements').to_dict()['cleaned_elements']\n",
    "id_dict = elements.set_index('cleaned_elements').to_dict()['element_ID']"
   ]
  },
  {
   "cell_type": "markdown",
   "metadata": {},
   "source": [
    "Create new columns for cleaned scientific name and element name "
   ]
  },
  {
   "cell_type": "code",
   "execution_count": 103,
   "metadata": {},
   "outputs": [],
   "source": [
    "data = data.assign(scientificName = \"\")\n",
    "data = data.assign(element = \"\")\n",
    "data = data.assign(elementID = \"\")"
   ]
  },
  {
   "cell_type": "markdown",
   "metadata": {},
   "source": [
    "Match scientificName to verbatimScientificName"
   ]
  },
  {
   "cell_type": "code",
   "execution_count": 104,
   "metadata": {},
   "outputs": [],
   "source": [
    "def clean_name(name): \n",
    "    \"\"\"Matches verbatimScientificName to cleaned scientificName with dictionary\"\"\"\n",
    "    if name in name_dict.values():\n",
    "        return name\n",
    "    elif name in name_dict.keys():\n",
    "        return name_dict[name]\n",
    "    else:\n",
    "        return \"\"\n",
    "    \n",
    "data[\"scientificName\"] = data[\"verbatimScientificName\"].apply(clean_name)"
   ]
  },
  {
   "cell_type": "markdown",
   "metadata": {},
   "source": [
    "Match verbatimElement to elementName"
   ]
  },
  {
   "cell_type": "code",
   "execution_count": 105,
   "metadata": {},
   "outputs": [],
   "source": [
    "def clean_element(element): \n",
    "    \"\"\"Matches verbatimScientificName to cleaned scientificName with dictionary\"\"\"\n",
    "    if element in element_dict.values():\n",
    "        return element\n",
    "    elif element in element_dict.keys():\n",
    "        return element_dict[element]\n",
    "    else:\n",
    "        return \"\"\n",
    "    \n",
    "data[\"element\"] = data[\"verbatimElement\"].apply(clean_element)"
   ]
  },
  {
   "cell_type": "markdown",
   "metadata": {},
   "source": [
    "Add Uberon IDs"
   ]
  },
  {
   "cell_type": "code",
   "execution_count": 106,
   "metadata": {},
   "outputs": [],
   "source": [
    "def add_ID(element): \n",
    "    \"\"\"Matches verbatimScientificName to cleaned scientificName with dictionary\"\"\"\n",
    "    if element in id_dict.keys():\n",
    "        return id_dict[element]\n",
    "    else:\n",
    "        return \"\"\n",
    "\n",
    "data[\"elementID\"] = data[\"element\"].apply(add_ID)"
   ]
  },
  {
   "cell_type": "code",
   "execution_count": 107,
   "metadata": {},
   "outputs": [
    {
     "data": {
      "text/html": [
       "<div>\n",
       "<style scoped>\n",
       "    .dataframe tbody tr th:only-of-type {\n",
       "        vertical-align: middle;\n",
       "    }\n",
       "\n",
       "    .dataframe tbody tr th {\n",
       "        vertical-align: top;\n",
       "    }\n",
       "\n",
       "    .dataframe thead th {\n",
       "        text-align: right;\n",
       "    }\n",
       "</style>\n",
       "<table border=\"1\" class=\"dataframe\">\n",
       "  <thead>\n",
       "    <tr style=\"text-align: right;\">\n",
       "      <th></th>\n",
       "      <th>verbatimScientificName</th>\n",
       "      <th>verbatimElement</th>\n",
       "      <th>scientificName</th>\n",
       "      <th>element</th>\n",
       "      <th>elementID</th>\n",
       "    </tr>\n",
       "  </thead>\n",
       "  <tbody>\n",
       "    <tr>\n",
       "      <th>0</th>\n",
       "      <td>Sylvilagus sp.</td>\n",
       "      <td>atlas</td>\n",
       "      <td>Sylvilagus</td>\n",
       "      <td></td>\n",
       "      <td></td>\n",
       "    </tr>\n",
       "    <tr>\n",
       "      <th>1</th>\n",
       "      <td>Sylvilagus sp.</td>\n",
       "      <td>astragalus</td>\n",
       "      <td>Sylvilagus</td>\n",
       "      <td>plastron: xiphiplastron</td>\n",
       "      <td>UBERON:0011661</td>\n",
       "    </tr>\n",
       "    <tr>\n",
       "      <th>2</th>\n",
       "      <td>Sylvilagus sp.</td>\n",
       "      <td>dentary</td>\n",
       "      <td>Sylvilagus</td>\n",
       "      <td>dentary</td>\n",
       "      <td>UBERON:0004742</td>\n",
       "    </tr>\n",
       "    <tr>\n",
       "      <th>3</th>\n",
       "      <td>Artiodactyla</td>\n",
       "      <td>lumbar vertebra</td>\n",
       "      <td>Artiodactyla</td>\n",
       "      <td></td>\n",
       "      <td></td>\n",
       "    </tr>\n",
       "    <tr>\n",
       "      <th>4</th>\n",
       "      <td>Bos taurus</td>\n",
       "      <td>phalanx</td>\n",
       "      <td>Bos taurus</td>\n",
       "      <td>phalanx</td>\n",
       "      <td>UBERON:0003221</td>\n",
       "    </tr>\n",
       "    <tr>\n",
       "      <th>...</th>\n",
       "      <td>...</td>\n",
       "      <td>...</td>\n",
       "      <td>...</td>\n",
       "      <td>...</td>\n",
       "      <td>...</td>\n",
       "    </tr>\n",
       "    <tr>\n",
       "      <th>923</th>\n",
       "      <td>Opsanus beta</td>\n",
       "      <td>skull</td>\n",
       "      <td>Opsanus beta</td>\n",
       "      <td></td>\n",
       "      <td></td>\n",
       "    </tr>\n",
       "    <tr>\n",
       "      <th>924</th>\n",
       "      <td>Opsanus beta</td>\n",
       "      <td>vertebra</td>\n",
       "      <td>Opsanus beta</td>\n",
       "      <td>vertebra</td>\n",
       "      <td>UBERON:0002412</td>\n",
       "    </tr>\n",
       "    <tr>\n",
       "      <th>925</th>\n",
       "      <td>Opsanus beta</td>\n",
       "      <td>dentary</td>\n",
       "      <td>Opsanus beta</td>\n",
       "      <td>dentary</td>\n",
       "      <td>UBERON:0004742</td>\n",
       "    </tr>\n",
       "    <tr>\n",
       "      <th>926</th>\n",
       "      <td>Opsanus beta</td>\n",
       "      <td>unidentified</td>\n",
       "      <td>Opsanus beta</td>\n",
       "      <td>unidentified skeletal element</td>\n",
       "      <td>UBERON:0004765</td>\n",
       "    </tr>\n",
       "    <tr>\n",
       "      <th>927</th>\n",
       "      <td>Osteichthyes</td>\n",
       "      <td>unidentified</td>\n",
       "      <td>Osteichthyes</td>\n",
       "      <td>unidentified skeletal element</td>\n",
       "      <td>UBERON:0004765</td>\n",
       "    </tr>\n",
       "  </tbody>\n",
       "</table>\n",
       "<p>928 rows × 5 columns</p>\n",
       "</div>"
      ],
      "text/plain": [
       "    verbatimScientificName  verbatimElement scientificName  \\\n",
       "0           Sylvilagus sp.            atlas     Sylvilagus   \n",
       "1           Sylvilagus sp.       astragalus     Sylvilagus   \n",
       "2           Sylvilagus sp.          dentary     Sylvilagus   \n",
       "3             Artiodactyla  lumbar vertebra   Artiodactyla   \n",
       "4               Bos taurus          phalanx     Bos taurus   \n",
       "..                     ...              ...            ...   \n",
       "923           Opsanus beta            skull   Opsanus beta   \n",
       "924           Opsanus beta         vertebra   Opsanus beta   \n",
       "925           Opsanus beta          dentary   Opsanus beta   \n",
       "926           Opsanus beta     unidentified   Opsanus beta   \n",
       "927           Osteichthyes     unidentified   Osteichthyes   \n",
       "\n",
       "                           element       elementID  \n",
       "0                                                   \n",
       "1          plastron: xiphiplastron  UBERON:0011661  \n",
       "2                          dentary  UBERON:0004742  \n",
       "3                                                   \n",
       "4                          phalanx  UBERON:0003221  \n",
       "..                             ...             ...  \n",
       "923                                                 \n",
       "924                       vertebra  UBERON:0002412  \n",
       "925                        dentary  UBERON:0004742  \n",
       "926  unidentified skeletal element  UBERON:0004765  \n",
       "927  unidentified skeletal element  UBERON:0004765  \n",
       "\n",
       "[928 rows x 5 columns]"
      ]
     },
     "execution_count": 107,
     "metadata": {},
     "output_type": "execute_result"
    }
   ],
   "source": [
    "data"
   ]
  }
 ],
 "metadata": {
  "kernelspec": {
   "display_name": "Python 3",
   "language": "python",
   "name": "python3"
  },
  "language_info": {
   "codemirror_mode": {
    "name": "ipython",
    "version": 3
   },
   "file_extension": ".py",
   "mimetype": "text/x-python",
   "name": "python",
   "nbconvert_exporter": "python",
   "pygments_lexer": "ipython3",
   "version": "3.8.3"
  }
 },
 "nbformat": 4,
 "nbformat_minor": 4
}
